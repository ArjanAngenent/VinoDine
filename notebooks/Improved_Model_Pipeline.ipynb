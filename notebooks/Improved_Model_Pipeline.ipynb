{
 "cells": [
  {
   "cell_type": "markdown",
   "id": "5c9e3fff",
   "metadata": {},
   "source": [
    "# ml logic"
   ]
  },
  {
   "cell_type": "markdown",
   "id": "7d8f92f4",
   "metadata": {},
   "source": [
    "## data.py"
   ]
  },
  {
   "cell_type": "code",
   "execution_count": 1,
   "id": "2741fff5",
   "metadata": {},
   "outputs": [],
   "source": [
    "import pandas as pd\n",
    "from sklearn.preprocessing import MultiLabelBinarizer\n"
   ]
  },
  {
   "cell_type": "code",
   "execution_count": 2,
   "id": "b883936d",
   "metadata": {},
   "outputs": [],
   "source": [
    "def create_binary_df(file_path):\n",
    "\n",
    "    '''\n",
    "    Load the original dataframe,\n",
    "    binary encode the 'Grapes' (part of features) and 'Harmonize' (becomes multi-label target y),\n",
    "    remove all columns not needed for model training,\n",
    "    return the binary encoded and cleaned dataframe\n",
    "    '''\n",
    "\n",
    "    #binary encoder for 'Harmonize' column (multi-label target)\n",
    "    mlb_harm = MultiLabelBinarizer(sparse_output=False)\n",
    "    #binary encoder for 'Grape' column (feature)\n",
    "    mlb_grape = MultiLabelBinarizer(sparse_output=False)\n",
    "\n",
    "    wine_df = pd.read_csv(file_path)\n",
    "\n",
    "    #Drop addional columns not used for model\n",
    "    wine_df = wine_df.drop(columns=['WineName', 'WineID','Code','Country','RegionID','RegionName','WineryID','Website','Vintages', 'WineryName'])\n",
    "\n",
    "    # Binary encode grapes\n",
    "    wine_df_bin = wine_df.join(pd.DataFrame(\n",
    "        mlb_grape.fit_transform(eval(element) for element in wine_df.Grapes),\n",
    "        index=wine_df.index,\n",
    "        columns=mlb_grape.classes_\n",
    "        ))\n",
    "    wine_df_bin.drop(columns=['Grapes'], inplace=True)\n",
    "\n",
    "    # Create a list of the kind of grapes that are mentioned less then 2.000 times\n",
    "    grapes_list = wine_df_bin.iloc[:,16:].sum() # sum the number of times a grape is mentioned via column\n",
    "    final_column_grapes = wine_df_bin.shape[1]\n",
    "\n",
    "    # Binary encode Harmonize(kinds of food)\n",
    "    wine_df_bin = wine_df_bin.join(pd.DataFrame(\n",
    "        mlb_harm.fit_transform(eval(element) for element in wine_df.Harmonize),\n",
    "        index=wine_df.index,\n",
    "        columns=mlb_harm.classes_\n",
    "        ))\n",
    "    wine_df_bin.drop(columns=['Harmonize'], inplace=True)\n",
    "\n",
    "    # Create a list of the kind of grapes that are mentioned less then 2.000 times\n",
    "    harm_list = wine_df_bin.iloc[:,(final_column_grapes+1):].sum() # sum the number of times a food is mentioned via column\n",
    "    harm_to_drop = harm_list[harm_list<=15_000].index.to_list() # create a list withe kind of food mentioned less then 50 times\n",
    "    wine_df_bin.drop(columns=harm_to_drop, inplace=True) # drop columns with food not mentioned more then 50 times\n",
    "    wine_df_bin = wine_df_bin[wine_df_bin.iloc[:,(final_column_grapes+1):].eq(1).any(axis=1)] # drop wines which are not represented by a food anymore\n",
    "\n",
    "    return wine_df_bin, final_column_grapes"
   ]
  },
  {
   "cell_type": "markdown",
   "id": "f9e29de5",
   "metadata": {
    "heading_collapsed": true
   },
   "source": [
    "## model.py"
   ]
  },
  {
   "cell_type": "code",
   "execution_count": 3,
   "id": "bffe9b30",
   "metadata": {
    "hidden": true
   },
   "outputs": [],
   "source": [
    "from sklearn.model_selection import train_test_split\n",
    "from sklearn.compose import make_column_transformer, make_column_selector\n",
    "from sklearn.pipeline import make_pipeline\n",
    "from sklearn.preprocessing import OneHotEncoder, MinMaxScaler\n",
    "from sklearn.ensemble import RandomForestClassifier\n",
    "import pandas as pd\n",
    "import numpy as np\n",
    "\n",
    "from skmultilearn.problem_transform import LabelPowerset\n",
    "\n",
    "import pickle"
   ]
  },
  {
   "cell_type": "code",
   "execution_count": 4,
   "id": "88e9bf65",
   "metadata": {
    "hidden": true
   },
   "outputs": [],
   "source": [
    "def create_X_train_y_train(df, grape_column, test_size=0.3):\n",
    "\n",
    "    '''\n",
    "    Read in transformed data frame and the final column for grapes (last feature column of data frame)\n",
    "    Return X_train, X_test, y_train, y_test\n",
    "    '''\n",
    "\n",
    "    X = df.iloc[:,:grape_column-1]\n",
    "    X = X.drop(columns = 'Elaborate')\n",
    "    y = df.iloc[:,grape_column:]\n",
    "    X_train, X_test, y_train, y_test = train_test_split(X, y, random_state=42, test_size=test_size)\n",
    "    return X_train, X_test, y_train, y_test"
   ]
  },
  {
   "cell_type": "code",
   "execution_count": 5,
   "id": "5363ae9f",
   "metadata": {
    "hidden": true
   },
   "outputs": [],
   "source": [
    "def train_model(X_train, y_train):\n",
    "\n",
    "    '''\n",
    "    Create pipeline for feature transformation and\n",
    "    model training\n",
    "    '''\n",
    "\n",
    "    # Create binary classifier\n",
    "    # Define which columns need to be encoded\n",
    "    cat_cols = make_column_selector(dtype_include='object')\n",
    "    num_cols = make_column_selector(dtype_include='number')\n",
    "    cat_pre = make_pipeline(OneHotEncoder(sparse_output=False, handle_unknown='ignore'),\n",
    "                            MinMaxScaler())\n",
    "    cat_num = MinMaxScaler()\n",
    "\n",
    "    # Create preprocessor pipeline\n",
    "    preprocessing = make_column_transformer((cat_pre, cat_cols),(cat_num, num_cols))\n",
    "\n",
    "    classifier = LabelPowerset(RandomForestClassifier(max_features=1, min_samples_split=10,\n",
    "                                                      n_jobs=-1, random_state=42))\n",
    "\n",
    "    pipeline = make_pipeline(preprocessing, classifier)\n",
    "    return pipeline.fit(X_train, y_train)\n"
   ]
  },
  {
   "cell_type": "code",
   "execution_count": 6,
   "id": "ed31e3c6",
   "metadata": {
    "hidden": true
   },
   "outputs": [],
   "source": [
    "def save_model(model, model_save_path):\n",
    "    # Save the model as a pickle file\n",
    "    with open(model_save_path, 'wb') as f:\n",
    "        pickle.dump(model, f)"
   ]
  },
  {
   "cell_type": "code",
   "execution_count": 7,
   "id": "739b85a6",
   "metadata": {
    "hidden": true
   },
   "outputs": [],
   "source": [
    "def open_model(model_open_path):\n",
    "    # Open the model as a pickle file\n",
    "    with open(model_open_path, \"rb\") as f:\n",
    "        model = pickle.load(f)\n",
    "    return model"
   ]
  },
  {
   "cell_type": "code",
   "execution_count": 23,
   "id": "63e9f003",
   "metadata": {
    "hidden": true
   },
   "outputs": [],
   "source": [
    "def create_X_pred(Type: str,\n",
    "            ABV: float,\n",
    "            Body: str,\n",
    "            Acidity: str,\n",
    "            grapes: list):\n",
    "\n",
    "    '''\n",
    "    Return a X_pred readable by the model by populating all grape columns not\n",
    "    listed with 0 and the ones listed with 0\n",
    "    '''\n",
    "\n",
    "    X_pred = pd.DataFrame.from_dict({'Type': [Type],\n",
    "                                        'Body': [Body],\n",
    "                                        'Acidity': [Acidity],\n",
    "                                        'ABV': [ABV]},\n",
    "                                    orient='columns')\n",
    "\n",
    "    # list of all grape columns (binary encoded)\n",
    "    grapes_columns = ['\"BiancodAlessano\"', '\"LAcadieBlanc\"', '\"LendelEl\"', '\"LoindelOeil\"', '\"NerodAvola\"', '\"PineauDAunis\"', '\"RoussetteDAyze\"', '\"TrebbianodAbruzzo\"', 'Abbuoto', 'Abouriou', 'Abrostine', 'Acolon', 'Agiorgitiko', 'Aglianico', 'Aidani', 'Airen', 'Albalonga', 'Albana', 'Albanella', 'Albariño', 'Albarola', 'Albarossa', 'AlbarínBlanco', 'Albillo', 'AlbilloCrimean', 'AlbilloMayor', 'AlbillodeAlbacete', 'Aleatico', 'AlfrocheiroPreto', 'Alibernet', 'AlicanteBouschet', 'AlicanteGanzin', 'Aligoté', 'Altesse', 'Alvarelhão', 'Alvarinho', 'Amigne', 'Ancellotta', 'Ansonica', 'AntãoVaz', 'Aragonez', 'Aramon', 'Arbane', 'Areni', 'Argaman', 'Arinarnoa', 'Arinto', 'ArintodeBucelas', 'ArintodosAçores', 'Arneis', 'Arnsburger', 'Arriloba', 'AspiranBouschet', 'AsprinioBianco', 'AssarioBranco', 'Assyrtiko', 'Athiri', 'Aurore', 'Avanà', 'Avesso', 'Avgoustiatis', 'AzalBranco', 'AzalTinto', 'Babić', 'Bacchus', 'BacoNoir', 'Baga', 'Barbarossa', 'Barbera', 'Barcelo', 'Barsaglina', 'BastardoMagarachsky', 'Batoca', 'Bellone', 'Bianca', 'Biancame', 'BianchettaTrevigiana', 'Biancolella', 'Bical', 'BlackQueen', 'Blauburger', 'Blauburgunder', 'BlauerPortugieser', 'Blaufränkisch', 'BoalBranco', 'Bobal', 'Bogazkere', 'BombinoBianco', 'BombinoNero', 'Bonamico', 'Bonarda', 'Bordô', 'Borraçal', 'Bosco', 'Bourboulenc', 'Bovale', 'Brachetto', 'Braquet', 'Braucol', 'Brianna', 'Bronner', 'BrunArgenté', 'Bruñal', 'Bual', 'BudaiZöld', 'Bukettraube', 'BurgundMare', 'BusuioacadeBohotin', 'BăbeascăNeagră', 'CabernetBlanc', 'CabernetCortis', 'CabernetCubin', 'CabernetDorsa', 'CabernetFranc', 'CabernetJura', 'CabernetMitos', 'CabernetRuby', 'CabernetSauvignon', 'CabernetSeverny', 'Cagnulari', 'CaiñoBlanco', 'CaiñoTinto', 'CalabresediMontenuovo', 'Caladoc', 'Calkarasi', 'Callet', 'Camarate', 'CanaioloBlanco', 'CanaioloNero', 'Cannonau', 'Carignan/Cariñena', 'Carmenère', 'Carricante', 'Casavecchia', 'Cascade', 'Casetta', 'Castelão', 'CatarrattoBianco', 'Catawba', 'CayugaWhite', 'Cencibel', 'Centesiminio', 'CercealBranco', 'Cesanese', 'Chambourcin', 'Chancellor', 'Charbono', 'Chardonel', 'Chardonnay', 'ChardonnayMusqué', 'Chasan', 'Chasselas', 'Chatus', 'Chenanson', 'CheninBlanc', 'Chinuri', 'Cienna', 'Ciliegiolo', 'Cinsault', 'Clairette', 'Cococciola', 'CodadiVolpeBianca', 'Colobel', 'Colombard', 'Coloraillo', 'ColorinodelValdarno', 'Concord', 'CorintoNero', 'Cornalin', 'Cornifesto', 'CorotNoir', 'Cortese', 'Corvina', 'Corvinone', 'Couderc', 'Counoise', 'CriollaGrande', 'Croatina', 'Crouchen', 'Cynthiana', 'CôdegadeLarinho', 'Côt', 'Dafni', 'Dakapo', 'DeChaunac', 'Debina', 'Diagalves', 'Dimiat', 'Dimrit', 'Dindarella', 'Diolinoir', 'Dolcetto', 'Domina', 'DonaBlanca', 'DonzelinhoBranco', 'DonzelinhoTinto', 'Dornfelder', 'Drupeggio', 'Dunkelfelder', 'Duras', 'Durella', 'Durif', 'DzvelshaviObchuri', 'Edelweiss', 'Egiodola', 'Ehrenfelser', 'EmeraldRiesling', 'Emir', 'Enantio', 'Encruzado', 'Erbaluce', 'Espadeiro', 'Falanghina', 'FalanghinaBeneventana', 'Famoso', 'Favorita', 'Fenile', 'FerServadou', 'FernãoPires', 'FeteascaAlba', 'FeteascaNeagra', 'FeteascaRegala', 'Fiano', 'Flora', 'FogliaTonda', 'Fokiano', 'Folgasao', 'FolleBlanche', 'FonteCal', 'Fragolino', 'Francusa', 'Frappato', 'Fredonia', 'Freisa', 'Friulano/Sauvignonasse', 'Frontenac', 'FruhroterVeltliner', 'Frühburgunder', 'Fumin', 'FuméBlanc', 'Furmint', 'Gaglioppo', 'Gaidouria', 'Galotta', 'Gamaret', 'GamayNoir', 'GamayTeinturierdeBouze', 'GambadiPernice', 'Garanoir', 'Garganega', 'Garnacha', 'GarnachaBlanca', 'GarnachaPeluda', 'GarnachaRoja', 'GarnachaTinta', 'GarnachaTintorera', 'GarridoFino', 'GelberMuskateller', 'Gewürztraminer', 'Gigiac', 'Ginestra', 'Girgentina', 'GiròBlanc', 'Glera/Prosecco', 'Godello', 'GoldTraminer', 'Goldburger', 'Golubok', 'Gorgollasa', 'GoruliMtsvane', 'Gouveio', 'GouveioReal', 'Graciano', 'GrandNoir', 'GrasadeCotnari', 'Grauburgunder', 'Grecanico', 'Grechetto', 'GrechettoRosso', 'Greco', 'GrecoBianco', 'GrecoNero', 'Grenache', 'GrenacheBlanc', 'GrenacheGris', 'Grignolino', 'Grillo', 'Gringet', 'Grolleau', 'Groppello', 'GrosManseng', 'GrosVerdot', 'GrünerVeltliner', 'Guardavalle', 'Gutedel', 'Hanepoot', 'Helios', 'Hibernal', 'HondarrabiBeltza', 'HondarrabiZuri', 'HumagneBlanche', 'HumagneRouge', 'Huxelrebe', 'Hárslevelű', 'IncrocioManzoni', 'Inzolia', 'IrsaiOliver', 'Isabella', 'Jacquère', 'Jaen', 'Jampal', 'Johannisberg', 'Johanniter', 'JuanGarcia', 'Kabar', 'Kadarka', 'Kakhet', 'Kakotrygis', 'KalecikKarasi', 'Kangun', 'Karasakiz', 'Karmahyut', 'Katsano', 'Keratsuda', 'Kerner', 'Khikhvi', 'Királyleányka', 'Kisi', 'Klevner', 'KokurBely', 'Koshu', 'Kotsifali', 'KrasnostopAnapsky', 'KrasnostopZolotovsky', 'Kratosija', 'Krstac', 'Kydonitsa', 'Kékfrankos', 'Lacrima', 'Lafnetscha', 'Lagrein', 'Lambrusco', 'Lampia', 'LandotNoir', 'Lauzet', 'Leanyka', 'Lefkada', 'Lemberger', 'Lenoir', 'LeonMillot', 'Liatiko', 'Limnio', 'Limniona', 'ListanNegro', 'Lorena', 'Loureiro', 'Macabeo', 'MadeleineAngevine', 'MaglioccoCanino', 'Malagouzia', 'Malbec', 'MalboGentile', 'Malvar', 'Malvasia', 'MalvasiaBiancaLunga', 'MalvasiaFina', 'MalvasiaIstriana', 'MalvasiaNera', 'MalvasiadelLazio', 'MalvasiadiCandia', 'MalvasiadiLipari', 'MalvasiadiSchierano', 'MalvazijaIstarska', 'Mammolo', 'Mandilaria', 'Mandón', 'Manseng', 'Manteudo', 'MantoNegro', 'ManzoniBianco', 'Maratheftiko', 'MarechalFoch', 'MariaGomes', 'Marmajuelo', 'Marquette', 'Marsanne', 'Marselan', 'Marufo', 'Marzemino', 'Mataro', 'MaturanaBlanca', 'MaturanaTinta', 'MauzacBlanc', 'MauzacNoir', 'Mavro', 'MavroKalavritino', 'Mavrodafni', 'Mavrotragano', 'MavroudiArachovis', 'Mavrud', 'Mayolet', 'Mazuelo', 'Melnik', 'Melody', 'MelondeBourgogne', 'Mencia', 'Menoir', 'Merlot', 'Merseguera', 'Michet', 'Millot-Foch', 'MisketCherven', 'MisketVrachanski', 'ModrýPortugal', 'Molinara', 'Mollard', 'Monastrell', 'MondeuseNoire', 'Monica', 'Montepulciano', 'Montuni', 'Moradella', 'Morava', 'Morellino', 'Morenillo', 'Moreto', 'Morio-Muskat', 'Moristel', 'Moschofilero', 'Moschomavro', 'Mouhtaro', 'Mourisco', 'Mourvedre', 'MtsvaneKakhuri', 'Muscadelle', 'Muscadine', 'Muscardin', 'Muscat/MoscatelGalego', 'Muscat/MoscatelRoxo', 'Muscat/MoscateldeGranoMenudo', 'Muscat/MoscatelloSelvatico', 'Muscat/Moscato', 'Muscat/MoscatoBianco', 'Muscat/MoscatoGiallo', 'Muscat/MoscatoRosa', 'Muscat/MoscatodiScanzo', 'Muscat/Muscatel', 'Muscat/MuskatMoravsky', 'MuscatBaileyA', 'MuscatBlack', 'MuscatBlanc', 'MuscatEarly', 'MuscatGolden', 'MuscatNoir', 'MuscatOrange', 'MuscatOttonel', 'MuscatValvin', 'MuscatYellow', 'MuscatofAlexandria', 'MuscatofFrontignan', 'MuscatofHamburg', 'MuscatofSetúbal', 'MustoasadeMaderat', 'Müller-Thurgau', 'Narince', 'Nascetta', 'Nasco', 'Nebbiolo', 'Negoska', 'NegraraTrentino', 'NegraraVeronese', 'Negrette', 'Negroamaro', 'NegrudeDragasani', 'NerelloCappuccio', 'NerelloMascalese', 'NerettaCuneese', 'NeroBuonodiCori', 'NerodiTroia', 'Neuburger', 'Niagara', 'NiagaraBlanc', 'Nieddera', 'Nielluccio', 'Noble', 'Nocera', 'Noiret', 'Norton', 'Nosiola', 'Nouvelle', 'Nuragus', 'Ojaleshi', 'OlaszRizling', 'Ondenc', 'Orion', 'OrleansGelb', 'Ortega', 'Ortrugo', 'Oseleta', 'OtskhanuriSapere', 'Padeiro', 'Pagadebit', 'Palava', 'PallagrelloBianco', 'PallagrelloNero', 'Palomino', 'Pamid', 'Pampanuto', 'Parellada', 'Parraleta', 'Pascale', 'Passerina', 'Pavana', 'País/Mission', 'Pecorino', 'Pederna', 'Pedral', 'PedroXimenez', 'Pelaverga', 'Peloursin', 'Perera', 'Perle', 'Perricone', 'Perrum', 'PetitCourbu', 'PetitManseng', 'PetitMeslier', 'PetitRouge', 'PetitVerdot', 'PetiteArvine', 'PetiteMilo', 'PetitePearl', 'PetiteSirah', 'Peverella', 'Phoenix', 'Picardan', 'PiccolaNera', 'Picolit', 'PicpoulBlanc', 'Piedirosso', 'Pigato', 'Pignoletto', 'Pignolo', 'Pinenc', 'PinotAuxerrois', 'PinotBlanc', 'PinotGrigio', 'PinotGris', 'PinotMeunier', 'PinotNero', 'PinotNoir', 'Pinotage', 'PiquepoulBlanc', 'PiquepoulNoir', 'PlavacMali', 'PolleraNera', 'PosipBijeli', 'Poulsard', 'Premetta', 'Prensal', 'PretoMartinho', 'PrietoPicudo', 'Primitivo', 'Prié', 'Procanico', 'Prokupac', 'PrugnoloGentile', 'Pugnitello', 'Pulcinculo', 'Rabigato', 'RabodeOvelha', 'RabosoPiave', 'RabosoVeronese', 'Ramisco', 'Rebo', 'Refosco', 'RefoscodalPeduncoloRosso', 'Regent', 'Reichensteiner', 'RibollaGialla', 'Riesel', 'Rieslaner', 'Riesling', 'RieslingItálico', 'RieslingRenano', 'Ripolo', 'Rivaner', 'Rkatsiteli', 'Robola', 'Roditis', 'Roesler', 'Rolle/Rollo', 'Romeiko', 'Romé', 'Rondinella', 'Rondo', 'Roobernet', 'Roscetto', 'Rosetta', 'Rossese', 'Rossignola', 'Rossola', 'Rotberger', 'RoterVeltliner', 'Rotgipfler', 'Rougeon', 'Roupeiro', 'Roussanne', 'RoyaldeAlloza', 'Rubin', 'Rubired', 'Ruché', 'Ruen', 'Rufete', 'Ruggine', 'Ruländer', 'Räuschling', 'Sabrevois', 'Sacy', 'Sagrantino', 'Samsó', 'Sangiovese', 'Saperavi', 'Sarba', 'SauvignonBlanc', 'SauvignonGris', 'SavagninBlanc', 'Savatiano', 'Scheurebe', 'Schiava', 'SchiavaGentile', 'SchiavaGrigia', 'Schioppettino', 'Schwarzriesling', 'Schönburger', 'Sciacarello', 'Sciascinoso', 'SearaNova', 'Segalin', 'Seibel', 'Sercial', 'Sercialinho', 'SeyvalBlanc', 'ShirokaMelnishka', 'Sibirkovi', 'Sideritis', 'Siegerrebe', 'Silvaner/Sylvaner', 'Smederevka', 'Solaris', 'Sousão', 'SouvignierGris', 'Spätburgunder', 'St.Croix', 'St.Laurent', 'Steuben', 'Sultana', 'Sultaniye', 'Sumoll', 'SumollBlanc', 'Susumaniello', 'SwensonWhite', 'Symphony', 'Syrah/Shiraz', 'Syriki', 'Szürkebarát', 'Sémillon', 'Síria', 'TamaioasaRomaneasca', 'Tamarez', 'Tannat', 'Tarrango', 'Tazzelenghe', 'Tempranillo', 'TempranilloBlanco', 'Teroldego', 'Terrano', 'Terrantez', 'Terret', 'Thrapsathiri', 'Tibouren', 'Timorasso', 'TintaAmarela', 'TintaBarroca', 'TintaCaiada', 'TintaCarvalha', 'TintaFrancisca', 'TintaMadeira', 'TintaMiúda', 'TintaNegraMole', 'TintaRoriz', 'TintadeToro', 'TintadelPais', 'Tintilia', 'Tintilla', 'TintoCão', 'TintoFino', 'TintoreDiTramonti', 'TocaiFriulano', 'TocaiItalico', 'Torbato', 'Torrontés', 'TourigaFranca', 'TourigaNacional', 'Trajadura', 'Traminer', 'Traminette', 'Trebbiano', 'TrebbianoGiallo', 'TrebbianoRomagnolo', 'TrebbianoToscano', 'Treixadura', 'Trepat', 'Trincadeira', 'Triomphe', 'Trollinger', 'Trousseau', 'TsimlyanskyCherny', 'Tsolikouri', 'Turan', 'Turbiana', 'UghettadiCanneto', 'UgniBlanc', 'UlldeLlebre', 'UvaRara', 'Vaccareze', 'Valdiguie', 'ValentinoNero', 'Verdeca', 'Verdejo', 'Verdelho', 'Verdello', 'Verdicchio', 'Verdiso', 'VerduzzoFriulano', 'Vermentino', 'VermentinoNero', 'Vernaccia', 'VernacciadiOristano', 'VernacciadiSanGimignano', 'Vernatsch', 'Vespaiola', 'Vespolina', 'VidalBlanc', 'Vidiano', 'ViendeNus', 'Vignoles', 'Vijiriega', 'Vilana', 'VillardNoir', 'Vincent', 'Vinhão', 'Viognier', 'Violeta', 'Viorica', 'Viosinho', 'Vital', 'Vitovska', 'Viura', 'Vranac', 'Weissburgunder', 'Welschriesling', 'Xarel-lo', 'Xinomavro', 'Xynisteri', 'Zalema', 'Zelen', 'Zengö', 'Zibibbo', 'Zierfandler', 'Zinfandel', 'ZinfandelWhite', 'Zlahtina', 'Zweigelt', 'Zéta', 'ÁguaSanta', 'Öküzgözü']\n",
    "    # Convert grapes list to set for faster lookup\n",
    "    grapes_set = set(grapes)\n",
    "\n",
    "    # Create a DataFrame with all grape columns populated with 0\n",
    "    zeros_df = pd.DataFrame(0, index=X_pred.index, columns=grapes_columns)\n",
    "\n",
    "    # Set 1 for the columns that are in the grapes list\n",
    "    for grape in grapes:\n",
    "        if grape in grapes_columns:\n",
    "            zeros_df[grape] = 1\n",
    "\n",
    "    # Concatenate X_pred with zeros_df along the columns axis\n",
    "    X_pred = pd.concat([X_pred, zeros_df], axis=1)\n",
    "\n",
    "    return X_pred\n"
   ]
  },
  {
   "cell_type": "code",
   "execution_count": 9,
   "id": "b523a8ef",
   "metadata": {
    "hidden": true
   },
   "outputs": [],
   "source": [
    "def pred(model, X_pred: pd.DataFrame):\n",
    "\n",
    "    '''\n",
    "    Return a dictonary that provides the predicted wines based on the provided X_pred\n",
    "    '''\n",
    "\n",
    "    y_pred = model.predict(X_pred)\n",
    "    y_pred = y_pred.toarray()\n",
    "\n",
    "    foods = ['Appetizer', 'Beef', 'Cured Meat', 'Game Meat', 'Lamb', 'Pasta', 'Pork', 'Poultry',\n",
    "             'Rich Fish', 'Shellfish', 'Veal', 'Vegetarian']\n",
    "    foods_index = np.where(y_pred[0]==1)[0].tolist()\n",
    "    foods_to_choose = []\n",
    "    for i in foods_index:\n",
    "        foods_to_choose.append(foods[i])\n",
    "\n",
    "    return {\"foods\": foods_to_choose}"
   ]
  },
  {
   "cell_type": "markdown",
   "id": "df795a93",
   "metadata": {
    "heading_collapsed": true
   },
   "source": [
    "# interface"
   ]
  },
  {
   "cell_type": "markdown",
   "id": "1361735a",
   "metadata": {
    "heading_collapsed": true,
    "hidden": true
   },
   "source": [
    "## main.py"
   ]
  },
  {
   "cell_type": "code",
   "execution_count": 10,
   "id": "ca0af821",
   "metadata": {
    "hidden": true
   },
   "outputs": [],
   "source": [
    "'''\n",
    "!!! Uncomment next two lines in main.py !!!\n",
    "'''\n",
    "# from vinodine.ml_logic.data import create_binary_df\n",
    "# from vinodine.ml_logic.model import create_X_train_y_train, train_model, save_model, open_model, create_X_pred, pred\n",
    "from sklearn.metrics import accuracy_score, classification_report\n",
    "import pandas as pd"
   ]
  },
  {
   "cell_type": "code",
   "execution_count": 28,
   "id": "f38cde7e",
   "metadata": {
    "hidden": true,
    "scrolled": false
   },
   "outputs": [
    {
     "name": "stdout",
     "output_type": "stream",
     "text": [
      "Classification Report:\n",
      "              precision    recall  f1-score   support\n",
      "\n",
      "           0       0.89      0.82      0.85      2602\n",
      "           1       0.99      0.99      0.99     17390\n",
      "           2       0.90      0.92      0.91      4952\n",
      "           3       0.91      0.91      0.91     10912\n",
      "           4       0.93      0.94      0.94     11641\n",
      "           5       0.86      0.79      0.82      6743\n",
      "           6       0.92      0.92      0.92      7656\n",
      "           7       0.94      0.95      0.94     17504\n",
      "           8       0.92      0.90      0.91      5575\n",
      "           9       0.91      0.91      0.91      7469\n",
      "          10       0.91      0.88      0.89      7469\n",
      "          11       0.88      0.90      0.89      5491\n",
      "\n",
      "   micro avg       0.93      0.92      0.92    105404\n",
      "   macro avg       0.91      0.90      0.91    105404\n",
      "weighted avg       0.93      0.92      0.92    105404\n",
      " samples avg       0.93      0.92      0.92    105404\n",
      "\n",
      "Accuracy: 0.8160045746577416\n",
      "{'foods': ['Appetizer', 'Pasta', 'Poultry', 'Vegetarian']}\n"
     ]
    }
   ],
   "source": [
    "file_path = \"~/code/ArjanAngenent/VinoDine/raw_data/Cleaned_Full_100K_wines.csv\"\n",
    "\n",
    "model_save_path = 'models/model.pkl'\n",
    "\n",
    "# Loading and binary encoding source data frame(\"grape_column\": retrieving last column for binary encoded grapes to create X)\n",
    "wine_df, grape_colum = create_binary_df(file_path)\n",
    "\n",
    "X_train, X_test, y_train, y_test = create_X_train_y_train(wine_df, grape_column=grape_colum)\n",
    "\n",
    "# Model training and saving\n",
    "model = train_model(X_train, y_train)\n",
    "save_model(model, model_save_path)\n",
    "\n",
    "#if __name__ == '__main__': # remove \"#\" in python file and indent following lines\n",
    "model = open_model(model_save_path)\n",
    "\n",
    "y_pred = model.predict(X_test)\n",
    "\n",
    "# Print classification report\n",
    "print(\"Classification Report:\")\n",
    "print(classification_report(y_test, y_pred))\n",
    "\n",
    "# Evaluate performance\n",
    "accuracy = accuracy_score(y_test, y_pred)\n",
    "print(\"Accuracy:\", accuracy)\n",
    "\n",
    "# create an new X_pred with manual input\n",
    "X_pred = create_X_pred(Type='White',\n",
    "                       Body='Full-bodied',\n",
    "                       Acidity='High',\n",
    "                       ABV='14.5',\n",
    "                       grapes=['Colombard', 'Ugni Blanc'])\n",
    "\n",
    "# predict foods for new input\n",
    "y_pred_foods = pred(model, X_pred)\n",
    "\n",
    "print(y_pred_foods)\n"
   ]
  },
  {
   "cell_type": "markdown",
   "id": "3f8e7f33",
   "metadata": {},
   "source": [
    "# API"
   ]
  },
  {
   "cell_type": "markdown",
   "id": "e9360ec9",
   "metadata": {},
   "source": [
    "## fast.py"
   ]
  },
  {
   "cell_type": "code",
   "execution_count": 32,
   "id": "17def081",
   "metadata": {},
   "outputs": [],
   "source": [
    "'''\n",
    "!!! Uncomment next two lines !!!\n",
    "'''\n",
    "# from vinodine.ml_logic.model import open_model, create_X_pred, pred\n",
    "from fastapi import FastAPI, Query\n",
    "from fastapi.middleware.cors import CORSMiddleware\n",
    "from typing import List\n"
   ]
  },
  {
   "cell_type": "code",
   "execution_count": 33,
   "id": "f024bc44",
   "metadata": {},
   "outputs": [],
   "source": [
    "app = FastAPI()\n",
    "app.add_middleware(CORSMiddleware,\n",
    "                   allow_origins=[\"*\"],\n",
    "                   allow_methods=[\"*\"],\n",
    "                   allow_headers=[\"*\"])\n",
    "\n",
    "\n",
    "model_open_path = 'model.pkl'\n",
    "app.state.model = open_model(model_open_path)\n",
    "\n",
    "\n",
    "@app.get('/')\n",
    "def root():\n",
    "    return {'greeting': 'Hello'}\n",
    "\n",
    "\n",
    "@app.get('/predict')\n",
    "def predict(Type: str,\n",
    "            ABV: float,\n",
    "            Body: str,\n",
    "            Acidity: str,\n",
    "            grapes: List[str] = Query('grape')): # allows to pass a list of strings(grapes) as params in POST request\n",
    "    # create managebale X_pred for model from API request\n",
    "    X_pred = create_X_pred(Type = Type,\n",
    "                           ABV = ABV,\n",
    "                           Body = Body,\n",
    "                           Acidity = Acidity,\n",
    "                           grapes = grapes)\n",
    "\n",
    "    # return suggested foods based on pretrained model and X_pred created from API request\n",
    "    y_pred_foods = pred(app.state.model, X_pred)\n",
    "\n",
    "    return y_pred_foods"
   ]
  },
  {
   "cell_type": "code",
   "execution_count": null,
   "id": "48a6c413",
   "metadata": {},
   "outputs": [],
   "source": []
  }
 ],
 "metadata": {
  "kernelspec": {
   "display_name": "Python 3 (ipykernel)",
   "language": "python",
   "name": "python3"
  },
  "language_info": {
   "codemirror_mode": {
    "name": "ipython",
    "version": 3
   },
   "file_extension": ".py",
   "mimetype": "text/x-python",
   "name": "python",
   "nbconvert_exporter": "python",
   "pygments_lexer": "ipython3",
   "version": "3.10.6"
  },
  "toc": {
   "base_numbering": 1,
   "nav_menu": {},
   "number_sections": true,
   "sideBar": true,
   "skip_h1_title": false,
   "title_cell": "Table of Contents",
   "title_sidebar": "Contents",
   "toc_cell": false,
   "toc_position": {},
   "toc_section_display": true,
   "toc_window_display": true
  }
 },
 "nbformat": 4,
 "nbformat_minor": 5
}
