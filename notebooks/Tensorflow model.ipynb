{
 "cells": [
  {
   "cell_type": "code",
   "execution_count": 1,
   "id": "39dd3c4b",
   "metadata": {},
   "outputs": [],
   "source": [
    "from tensorflow.keras import Model, Sequential, layers, regularizers, optimizers, models\n",
    "from tensorflow.keras.callbacks import EarlyStopping\n",
    "\n",
    "#from colorama import Fore, Style\n",
    "from typing import Tuple\n",
    "import pickle\n",
    "import time\n",
    "import os\n",
    "import glob"
   ]
  },
  {
   "cell_type": "code",
   "execution_count": 2,
   "id": "96cefa72",
   "metadata": {},
   "outputs": [],
   "source": [
    "import pandas as pd\n",
    "import numpy as np\n",
    "import matplotlib.pyplot as plt\n",
    "\n",
    "from sklearn.model_selection import train_test_split, cross_val_score\n",
    "from sklearn.preprocessing import OneHotEncoder, OrdinalEncoder, StandardScaler, MinMaxScaler\n",
    "from sklearn.multioutput import MultiOutputClassifier\n",
    "from sklearn.linear_model import SGDClassifier, LogisticRegression, LinearRegression\n",
    "from sklearn.metrics import accuracy_score, classification_report\n",
    "from sklearn.preprocessing import MultiLabelBinarizer\n",
    "from sklearn.pipeline import make_pipeline\n",
    "from sklearn.compose import make_column_transformer, make_column_selector\n",
    "from sklearn.multiclass import OneVsRestClassifier\n",
    "from imblearn.over_sampling import RandomOverSampler"
   ]
  },
  {
   "cell_type": "code",
   "execution_count": 3,
   "id": "9f9a26a6",
   "metadata": {},
   "outputs": [],
   "source": [
    "pd.set_option('display.max_columns', None)"
   ]
  },
  {
   "cell_type": "markdown",
   "id": "f2cf473d",
   "metadata": {},
   "source": [
    "# Functions"
   ]
  },
  {
   "cell_type": "markdown",
   "id": "9a563a6d",
   "metadata": {},
   "source": [
    "## Preprocessing Functions"
   ]
  },
  {
   "cell_type": "markdown",
   "id": "4ab1e0eb",
   "metadata": {},
   "source": [
    "### create binary df"
   ]
  },
  {
   "cell_type": "code",
   "execution_count": 4,
   "id": "363a47f6",
   "metadata": {},
   "outputs": [],
   "source": [
    "def create_binary_df_2(file_path):\n",
    "    mlb_harm = MultiLabelBinarizer(sparse_output=False)\n",
    "    mlb_grape = MultiLabelBinarizer(sparse_output=False)\n",
    "\n",
    "    wine_df = pd.read_csv(file_path)\n",
    "    \n",
    "    #Drop addional columns not used for model\n",
    "    wine_df = wine_df.drop(columns=['WineName', 'WineID','Code','Country','RegionID','RegionName','WineryID','Website','Vintages', 'WineryName'])\n",
    "    \n",
    "    # Binary encode grapes\n",
    "    wine_df_bin = wine_df.join(pd.DataFrame(\n",
    "        mlb_grape.fit_transform(eval(element) for element in wine_df.Grapes),\n",
    "        index=wine_df.index,\n",
    "        columns=mlb_grape.classes_\n",
    "        ))\n",
    "    wine_df_bin.drop(columns=['Grapes'], inplace=True)\n",
    "\n",
    "    # Create a list of the kind of grapes that are mentioned less then 2.000 times\n",
    "    grapes_list = wine_df_bin.iloc[:,16:].sum() # sum the number of times a grape is mentioned via column\n",
    "    grapes_to_drop = grapes_list[grapes_list<1_000].index.to_list() # create a list with kind of grapes mentioned less then 2.000 times\n",
    "    \n",
    "    wine_df_bin.drop(columns=grapes_to_drop, inplace=True) # drop columns with grapes not mentioned more then 2.000 times\n",
    "    final_column_grapes = wine_df_bin.shape[1]\n",
    "    \n",
    "    # Binary encode Harmonize(kinds of food)\n",
    "    wine_df_bin = wine_df_bin.join(pd.DataFrame(\n",
    "        mlb_harm.fit_transform(eval(element) for element in wine_df.Harmonize),\n",
    "        index=wine_df.index,\n",
    "        columns=mlb_harm.classes_\n",
    "        ))\n",
    "    wine_df_bin.drop(columns=['Harmonize'], inplace=True)\n",
    "    \n",
    "    # Create a list of the kind of grapes that are mentioned less then 2.000 times\n",
    "    harm_list = wine_df_bin.iloc[:,(final_column_grapes+1):].sum() # sum the number of times a food is mentioned via column\n",
    "    harm_to_drop = harm_list[harm_list<=15_000].index.to_list() # create a list withe kind of food mentioned less then 50 times\n",
    "    wine_df_bin.drop(columns=harm_to_drop, inplace=True) # drop columns with food not mentioned more then 50 times\n",
    "    wine_df_bin = wine_df_bin[wine_df_bin.iloc[:,(final_column_grapes+1):].eq(1).any(axis=1)] # drop wines which are not represented by a food anymore\n",
    "\n",
    "    return wine_df_bin, final_column_grapes"
   ]
  },
  {
   "cell_type": "code",
   "execution_count": 5,
   "id": "cb2aef68",
   "metadata": {},
   "outputs": [],
   "source": [
    "def create_binary_df(file_path):\n",
    "    mlb_harm = MultiLabelBinarizer(sparse_output=False)\n",
    "    mlb_grape = MultiLabelBinarizer(sparse_output=False)\n",
    "\n",
    "    wine_df = pd.read_csv(file_path)\n",
    "\n",
    "    \n",
    "    wine_df.drop(columns=['Grapes'], inplace=True)\n",
    "\n",
    "    # Binary encode Harmonize(kinds of food)\n",
    "    wine_df_bin = wine_df.join(pd.DataFrame(\n",
    "        mlb_harm.fit_transform(eval(element) for element in wine_df.Harmonize),\n",
    "        index=wine_df.index,\n",
    "        columns=mlb_harm.classes_\n",
    "        ))\n",
    "    wine_df_bin.drop(columns=['Harmonize'], inplace=True)\n",
    "    \n",
    "    # Create a list of the kind of grapes that are mentioned less then 2.000 times\n",
    "    harm_list = wine_df_bin.iloc[:,15:].sum() # sum the number of times a food is mentioned via column\n",
    "    harm_to_drop = harm_list[harm_list<=15_000].index.to_list() # create a list withe kind of food mentioned less then 50 times\n",
    "    wine_df_bin.drop(columns=harm_to_drop, inplace=True) # drop columns with food not mentioned more then 50 times\n",
    "    wine_df_bin = wine_df_bin[wine_df_bin.iloc[:,15:].eq(1).any(axis=1)] # drop wines which are not represented by a food anymore\n",
    "\n",
    "    #Drop addional columns not used for model\n",
    "    wine_df_bin_cleaned = wine_df_bin.drop(columns=['WineName', 'WineID','Code','Country','RegionID','RegionName','WineryID','Website','Vintages', 'WineryName'])\n",
    "\n",
    "    return wine_df_bin_cleaned"
   ]
  },
  {
   "cell_type": "markdown",
   "id": "961b4687",
   "metadata": {},
   "source": [
    "### preprocessing for X"
   ]
  },
  {
   "cell_type": "code",
   "execution_count": 27,
   "id": "122c3d13",
   "metadata": {},
   "outputs": [],
   "source": [
    "def preprocessing(X_train):\n",
    "    # Define which columns need to be encoded\n",
    "    cat_cols = make_column_selector(dtype_include='object')\n",
    "    num_cols = make_column_selector(dtype_include='number')\n",
    "    cat_pre = make_pipeline(OneHotEncoder(sparse_output=False, handle_unknown='ignore'),\n",
    "                            MinMaxScaler())\n",
    "    cat_num = MinMaxScaler()\n",
    "\n",
    "    # Create preprocessor pipeline\n",
    "    preprocessing = make_column_transformer((cat_pre, cat_cols),(cat_num, num_cols))\n",
    "    preprocessing.fit(X_train)\n",
    "    return preprocessing"
   ]
  },
  {
   "cell_type": "code",
   "execution_count": 7,
   "id": "3a8551a9",
   "metadata": {},
   "outputs": [],
   "source": [
    "def preprocessing_2(X_train):\n",
    "    # Define which columns need to be encoded\n",
    "    cat_cols = make_column_selector(dtype_include='object')\n",
    "    num_cols = make_column_selector(dtype_include='number')\n",
    "    cat_pre = make_pipeline(OneHotEncoder(sparse_output=False, handle_unknown='ignore'),\n",
    "                            MinMaxScaler())\n",
    "    cat_num = MinMaxScaler()\n",
    "\n",
    "    # Create preprocessor pipeline\n",
    "    preprocessing = make_column_transformer((cat_pre, cat_cols),(cat_num, num_cols))\n",
    "    preprocessing.fit(X_train)\n",
    "    return preprocessing"
   ]
  },
  {
   "cell_type": "markdown",
   "id": "f55b65c5",
   "metadata": {},
   "source": [
    "### creation of X_train, X_test, y_train, y_test"
   ]
  },
  {
   "cell_type": "code",
   "execution_count": 8,
   "id": "0b4f5a78",
   "metadata": {},
   "outputs": [],
   "source": [
    "def create_X_train_y_train(df, test_size=0.3):\n",
    "    X = df[['Type','Body','Acidity', 'ABV']]\n",
    "    y = df.drop(columns=['Type','Elaborate','Body','Acidity', 'ABV'])\n",
    "    X_train, X_test, y_train, y_test = train_test_split(X, y, random_state=42, test_size=test_size)\n",
    "    return X_train, X_test, y_train, y_test"
   ]
  },
  {
   "cell_type": "code",
   "execution_count": 9,
   "id": "b2df0649",
   "metadata": {},
   "outputs": [],
   "source": [
    "def create_X_train_y_train_2(df, grape_column, test_size=0.3):\n",
    "    X = df.iloc[:,:grape_column-1]\n",
    "    y = df.iloc[:,grape_column:]\n",
    "    X_train, X_test, y_train, y_test = train_test_split(X, y, random_state=42, test_size=test_size)\n",
    "    return X_train, X_test, y_train, y_test"
   ]
  },
  {
   "cell_type": "markdown",
   "id": "a0f80246",
   "metadata": {},
   "source": [
    "## Model functions"
   ]
  },
  {
   "cell_type": "markdown",
   "id": "985632ec",
   "metadata": {},
   "source": [
    "### Initializing model"
   ]
  },
  {
   "cell_type": "code",
   "execution_count": 10,
   "id": "be361de9",
   "metadata": {},
   "outputs": [],
   "source": [
    "def initialize_model(input_shape: tuple, output_shape: int) -> Model:\n",
    "    '''\n",
    "    Initialize neural Nework\n",
    "    '''\n",
    "    \n",
    "    reg = regularizers.l1_l2(l2=0.005)\n",
    "    \n",
    "    model = Sequential()\n",
    "    model.add(layers.Input(shape=input_shape))\n",
    "    model.add(layers.Dense(100, kernel_initializer='he_uniform', activation='relu'))\n",
    "    model.add(layers.Dropout(rate=0.1))\n",
    "    model.add(layers.Dense(50, kernel_initializer='he_uniform', activation='relu'))\n",
    "    model.add(layers.Dropout(rate=0.1))\n",
    "    model.add(layers.Dense(25,kernel_initializer='he_uniform', activation='relu'))\n",
    "    model.add(layers.Dropout(rate=0.1))\n",
    "    model.add(layers.Dense(output_shape, activation='sigmoid'))\n",
    "    \n",
    "    print(\"✅ Model initialized\")\n",
    "    \n",
    "    return model"
   ]
  },
  {
   "cell_type": "markdown",
   "id": "336853c9",
   "metadata": {},
   "source": [
    "### Compiling model"
   ]
  },
  {
   "cell_type": "code",
   "execution_count": 11,
   "id": "a31f82a2",
   "metadata": {},
   "outputs": [],
   "source": [
    "def compile_model(model: Model, learning_rate=0.0005):\n",
    "    '''\n",
    "    Compile Neural Network\n",
    "    '''\n",
    "    \n",
    "    optimizer = optimizers.Adam(learning_rate=learning_rate)\n",
    "    model.compile(loss='categorical_crossentropy', optimizer=optimizer, metrics=['accuracy'])\n",
    "    \n",
    "    print(\"✅ Model compiled\")\n",
    "    \n",
    "    return model"
   ]
  },
  {
   "cell_type": "markdown",
   "id": "cb255a18",
   "metadata": {},
   "source": [
    "### Training model"
   ]
  },
  {
   "cell_type": "code",
   "execution_count": 12,
   "id": "2473be8b",
   "metadata": {},
   "outputs": [],
   "source": [
    "def train_model(\n",
    "        model: Model, \n",
    "        X: np.array,\n",
    "        y: np.array,\n",
    "        batch_size = 32,\n",
    "        patience = 5,\n",
    "        validation_split=0.3\n",
    "    ) ->[Model, dict]:\n",
    "    '''\n",
    "    Fit the model and return a tuple (fitted model, history)\n",
    "    '''\n",
    "    \n",
    "    print(f'Training model ...')\n",
    "    \n",
    "    es = EarlyStopping(\n",
    "        patience=patience,\n",
    "        restore_best_weights=True,\n",
    "        verbose = 1)\n",
    "    \n",
    "    history = model.fit(\n",
    "        X,\n",
    "        y,\n",
    "        validation_split=validation_split,\n",
    "        epochs = 1_000,\n",
    "        batch_size=batch_size,\n",
    "        callbacks=[es],\n",
    "        verbose = 1)\n",
    "    \n",
    "    print(f\"✅ Model trained on {len(X)} rows with max val Accuracy: {round(np.max(history.history['val_accuracy']), 2)}\")\n",
    "    \n",
    "    return model, history"
   ]
  },
  {
   "cell_type": "markdown",
   "id": "ec168633",
   "metadata": {},
   "source": [
    "### Evaluatin model"
   ]
  },
  {
   "cell_type": "code",
   "execution_count": 13,
   "id": "117618bb",
   "metadata": {},
   "outputs": [],
   "source": [
    "def evaluate_model(\n",
    "        model: Model,\n",
    "        X: np.array,\n",
    "        y: np.array,\n",
    "        batch_size =64\n",
    "    ) -> Tuple[Model, dict]:\n",
    "    '''\n",
    "    Evaluate the trained model performance on dataset\n",
    "    '''\n",
    "    \n",
    "    if model is None:\n",
    "        print(f\"\\n❌ No model to evaluate\")\n",
    "        return None\n",
    "    \n",
    "    metrics = model.evaluate(\n",
    "        x=X,\n",
    "        y=y,\n",
    "        batch_size=batch_size,\n",
    "        verbose=1,\n",
    "        return_dict=True,)\n",
    "    \n",
    "    accuracy = metrics['accuracy']\n",
    "    \n",
    "    print(f\"✅ Model evaluated, Accuracy: {round(accuracy, 2)}\")\n",
    "    \n",
    "    return metrics"
   ]
  },
  {
   "cell_type": "markdown",
   "id": "b351f003",
   "metadata": {},
   "source": [
    "### Save model"
   ]
  },
  {
   "cell_type": "code",
   "execution_count": 14,
   "id": "eaf1e6bf",
   "metadata": {},
   "outputs": [],
   "source": [
    "def save_model(model):\n",
    "    timestamp = time.strftime(\"%Y%m%d-%H%M%S\")\n",
    "    \n",
    "    model_path = os.path.join(f'~/code/ArjanAngenent/VinoDine/tensorflow_model', f'{timestamp}.keras')\n",
    "    model.save(model_path)\n",
    "    \n",
    "    print(\"✅ Model saved locally\")\n",
    "    \n",
    "    return None"
   ]
  },
  {
   "cell_type": "markdown",
   "id": "c69240cf",
   "metadata": {},
   "source": [
    "### Load model"
   ]
  },
  {
   "cell_type": "code",
   "execution_count": 15,
   "id": "22087ed6",
   "metadata": {},
   "outputs": [],
   "source": [
    "def load_model():\n",
    "    \n",
    "    local_model_directory = f'~/code/ArjanAngenent/VinoDine/tensorflow_model'\n",
    "    local_model_paths = glob.glob(f'{local_model_directory}/*')\n",
    "    \n",
    "    most_recent_model_path_on_disk = sorted(local_model_paths)[-1]\n",
    "    \n",
    "    latest_model = models.load_model(most_recent_model_path_on_disk)\n",
    "    \n",
    "    print(\"✅ Model loaded from local disk\")\n",
    "    \n",
    "    return latest_model\n",
    "    "
   ]
  },
  {
   "cell_type": "markdown",
   "id": "43a6fec9",
   "metadata": {},
   "source": [
    "## Prediciton"
   ]
  },
  {
   "cell_type": "markdown",
   "id": "d6046576",
   "metadata": {},
   "source": [
    "### Creating X_pred"
   ]
  },
  {
   "cell_type": "code",
   "execution_count": 16,
   "id": "f1c54c9f",
   "metadata": {},
   "outputs": [],
   "source": [
    "def create_X_pred(\n",
    "            type_of_wine: str,\n",
    "            body: str, \n",
    "            acidity: str, \n",
    "            ABV: float\n",
    "            # elaborate: str,\n",
    "            ):\n",
    "    X_pred = pd.DataFrame.from_dict({'Type': [type_of_wine],\n",
    "                                    'Body': [body],\n",
    "                                    'Acidity': [acidity],\n",
    "                                    'ABV': [ABV]\n",
    "                                    #'Elaborate': [elaborate],\n",
    "                                    },\n",
    "                                   orient='columns')\n",
    "    return X_pred"
   ]
  },
  {
   "cell_type": "markdown",
   "id": "e79a1e41",
   "metadata": {},
   "source": [
    "### Predicting food"
   ]
  },
  {
   "cell_type": "code",
   "execution_count": 17,
   "id": "45dd8e00",
   "metadata": {},
   "outputs": [],
   "source": [
    "def pred(X_pred, y_train, preprocessing=preprocessing):\n",
    "    \n",
    "    model = load_model()\n",
    "    \n",
    "    X_pred_pre = preprocessing.transform(X_pred)\n",
    "    \n",
    "    y_pred = model.predict(X_pred_pre)\n",
    "    \n",
    "    \n",
    "    \n",
    "    return y_pred"
   ]
  },
  {
   "cell_type": "code",
   "execution_count": 19,
   "id": "a003f5ee",
   "metadata": {},
   "outputs": [
    {
     "ename": "IndentationError",
     "evalue": "unindent does not match any outer indentation level (<tokenize>, line 9)",
     "output_type": "error",
     "traceback": [
      "\u001b[0;36m  File \u001b[0;32m<tokenize>:9\u001b[0;36m\u001b[0m\n\u001b[0;31m    foods = show_foods(y_train, y_pred)\u001b[0m\n\u001b[0m    ^\u001b[0m\n\u001b[0;31mIndentationError\u001b[0m\u001b[0;31m:\u001b[0m unindent does not match any outer indentation level\n"
     ]
    }
   ],
   "source": [
    "def show_foods(y_train, y_pred):\n",
    "        foods = y_train.columns.to_list()\n",
    "        foods_index = np.where(y_pred[0]==1)[0].tolist()\n",
    "        foods_to_choose = []\n",
    "        for i in foods_index:\n",
    "            foods_to_choose.append(foods[i])\n",
    "        return foods_to_choose\n",
    "    \n",
    "    foods = show_foods(y_train, y_pred)"
   ]
  },
  {
   "cell_type": "markdown",
   "id": "7fc23234",
   "metadata": {},
   "source": [
    "# Application"
   ]
  },
  {
   "cell_type": "markdown",
   "id": "ce0350d5",
   "metadata": {},
   "source": [
    "## Load Wine DataFrame"
   ]
  },
  {
   "cell_type": "code",
   "execution_count": 23,
   "id": "894b2638",
   "metadata": {},
   "outputs": [],
   "source": [
    "file_name = 'XWines_Full_100K_wines.csv'\n",
    "file_path = f'~/code/ArjanAngenent/VinoDine/raw_data/{file_name}'\n",
    "wine_df = create_binary_df(file_path)"
   ]
  },
  {
   "cell_type": "markdown",
   "id": "b3ef1dfe",
   "metadata": {},
   "source": [
    "## Create X_train, X_test, y_train, y_test"
   ]
  },
  {
   "cell_type": "code",
   "execution_count": 28,
   "id": "59b24dd7",
   "metadata": {},
   "outputs": [],
   "source": [
    "X_train, X_test, y_train, y_test = create_X_train_y_train(wine_df)\n",
    "\n",
    "preprocessed = preprocessing(X_train)\n",
    "\n",
    "X_train_processed = preprocessed.transform(X_train)\n",
    "\n",
    "X_test_processed = preprocessed.transform(X_test)"
   ]
  },
  {
   "cell_type": "markdown",
   "id": "c9131d7d",
   "metadata": {},
   "source": [
    "## Creating model & training model"
   ]
  },
  {
   "cell_type": "code",
   "execution_count": 29,
   "id": "94bb60ef",
   "metadata": {},
   "outputs": [
    {
     "name": "stdout",
     "output_type": "stream",
     "text": [
      "✅ Model initialized\n",
      "✅ Model compiled\n",
      "Training model ...\n",
      "Epoch 1/1000\n"
     ]
    },
    {
     "name": "stderr",
     "output_type": "stream",
     "text": [
      "2024-05-13 11:40:35.520613: I tensorflow/core/grappler/optimizers/custom_graph_optimizer_registry.cc:117] Plugin optimizer for device_type GPU is enabled.\n"
     ]
    },
    {
     "name": "stdout",
     "output_type": "stream",
     "text": [
      "\u001b[1m1518/1518\u001b[0m \u001b[32m━━━━━━━━━━━━━━━━━━━━\u001b[0m\u001b[37m\u001b[0m \u001b[1m15s\u001b[0m 10ms/step - accuracy: 0.3041 - loss: 8831.1162 - val_accuracy: 0.0216 - val_loss: 71952.3359\n",
      "Epoch 2/1000\n",
      "\u001b[1m1518/1518\u001b[0m \u001b[32m━━━━━━━━━━━━━━━━━━━━\u001b[0m\u001b[37m\u001b[0m \u001b[1m14s\u001b[0m 10ms/step - accuracy: 0.1853 - loss: 248914.3281 - val_accuracy: 0.5834 - val_loss: 334588.8438\n",
      "Epoch 3/1000\n",
      "\u001b[1m1518/1518\u001b[0m \u001b[32m━━━━━━━━━━━━━━━━━━━━\u001b[0m\u001b[37m\u001b[0m \u001b[1m15s\u001b[0m 10ms/step - accuracy: 0.1920 - loss: 992332.0625 - val_accuracy: 0.0216 - val_loss: 828409.3750\n",
      "Epoch 4/1000\n",
      "\u001b[1m1518/1518\u001b[0m \u001b[32m━━━━━━━━━━━━━━━━━━━━\u001b[0m\u001b[37m\u001b[0m \u001b[1m15s\u001b[0m 10ms/step - accuracy: 0.1871 - loss: 2314832.0000 - val_accuracy: 0.0216 - val_loss: 1835364.2500\n",
      "Epoch 5/1000\n",
      "\u001b[1m1518/1518\u001b[0m \u001b[32m━━━━━━━━━━━━━━━━━━━━\u001b[0m\u001b[37m\u001b[0m \u001b[1m15s\u001b[0m 10ms/step - accuracy: 0.1883 - loss: 4275083.5000 - val_accuracy: 0.5834 - val_loss: 2986110.5000\n",
      "Epoch 6/1000\n",
      "\u001b[1m1518/1518\u001b[0m \u001b[32m━━━━━━━━━━━━━━━━━━━━\u001b[0m\u001b[37m\u001b[0m \u001b[1m15s\u001b[0m 10ms/step - accuracy: 0.1811 - loss: 6707127.0000 - val_accuracy: 0.5834 - val_loss: 3824352.0000\n",
      "Epoch 6: early stopping\n",
      "Restoring model weights from the end of the best epoch: 1.\n",
      "✅ Model trained on 69367 rows with max val Accuracy: 0.58\n",
      "\u001b[1m465/465\u001b[0m \u001b[32m━━━━━━━━━━━━━━━━━━━━\u001b[0m\u001b[37m\u001b[0m \u001b[1m2s\u001b[0m 4ms/step - accuracy: 0.0208 - loss: 71817.6641\n",
      "✅ Model evaluated, Accuracy: 0.02\n"
     ]
    }
   ],
   "source": [
    "# Initializing model\n",
    "model = initialize_model(input_shape=X_train_processed.shape[1:], output_shape=y_train.shape[1])\n",
    "\n",
    "# Compiling model\n",
    "model = compile_model(model)\n",
    "\n",
    "# Training model\n",
    "model, history = train_model(model, X_train_processed, y_train)\n",
    "\n",
    "# Evaluating model\n",
    "metrics = evaluate_model(model, X_test_processed, y_test)"
   ]
  },
  {
   "cell_type": "code",
   "execution_count": 30,
   "id": "18cb11b3",
   "metadata": {},
   "outputs": [
    {
     "name": "stdout",
     "output_type": "stream",
     "text": [
      "✅ Model saved locally\n"
     ]
    }
   ],
   "source": [
    "# Saving model\n",
    "save_model(model)"
   ]
  },
  {
   "cell_type": "code",
   "execution_count": 31,
   "id": "75ba0a5c",
   "metadata": {},
   "outputs": [
    {
     "name": "stdout",
     "output_type": "stream",
     "text": [
      "✅ Model loaded from local disk\n"
     ]
    }
   ],
   "source": [
    "# Loading most recent model\n",
    "model = load_model()"
   ]
  },
  {
   "cell_type": "markdown",
   "id": "90599514",
   "metadata": {},
   "source": [
    "## Predicting"
   ]
  },
  {
   "cell_type": "code",
   "execution_count": 32,
   "id": "765147e7",
   "metadata": {},
   "outputs": [],
   "source": [
    "X_pred = create_X_pred('Rose', 'Medium-bodied', 'Medium', 100)\n"
   ]
  },
  {
   "cell_type": "code",
   "execution_count": 33,
   "id": "ac828e0a",
   "metadata": {},
   "outputs": [
    {
     "name": "stdout",
     "output_type": "stream",
     "text": [
      "✅ Model loaded from local disk\n",
      "\u001b[1m1/1\u001b[0m \u001b[32m━━━━━━━━━━━━━━━━━━━━\u001b[0m\u001b[37m\u001b[0m \u001b[1m0s\u001b[0m 39ms/step\n"
     ]
    },
    {
     "data": {
      "text/plain": [
       "array([[1., 1., 1., 1., 1., 1., 1., 1., 1., 1., 1.]], dtype=float32)"
      ]
     },
     "execution_count": 33,
     "metadata": {},
     "output_type": "execute_result"
    }
   ],
   "source": [
    "pred(X_pred, y_train, preprocessing=preprocessed)"
   ]
  }
 ],
 "metadata": {
  "kernelspec": {
   "display_name": "Python 3 (ipykernel)",
   "language": "python",
   "name": "python3"
  },
  "language_info": {
   "codemirror_mode": {
    "name": "ipython",
    "version": 3
   },
   "file_extension": ".py",
   "mimetype": "text/x-python",
   "name": "python",
   "nbconvert_exporter": "python",
   "pygments_lexer": "ipython3",
   "version": "3.10.6"
  },
  "toc": {
   "base_numbering": 1,
   "nav_menu": {},
   "number_sections": true,
   "sideBar": true,
   "skip_h1_title": false,
   "title_cell": "Table of Contents",
   "title_sidebar": "Contents",
   "toc_cell": false,
   "toc_position": {
    "height": "calc(100% - 180px)",
    "left": "10px",
    "top": "150px",
    "width": "512px"
   },
   "toc_section_display": true,
   "toc_window_display": true
  }
 },
 "nbformat": 4,
 "nbformat_minor": 5
}
